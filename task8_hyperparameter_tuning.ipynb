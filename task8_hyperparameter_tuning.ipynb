{
 "cells": [
  {
   "cell_type": "markdown",
   "id": "589f644f",
   "metadata": {},
   "source": [
    "# Idk RandomForest fascinates me because of its name\n"
   ]
  },
  {
   "cell_type": "code",
   "execution_count": 12,
   "id": "806ce6f0",
   "metadata": {},
   "outputs": [
    {
     "name": "stdout",
     "output_type": "stream",
     "text": [
      "Model trained successfully!\n"
     ]
    }
   ],
   "source": [
    "import pandas as pd\n",
    "from sklearn.model_selection import train_test_split\n",
    "from sklearn.preprocessing import LabelEncoder\n",
    "from sklearn.ensemble import RandomForestRegressor\n",
    "\n",
    "df = pd.read_csv(\"C:\\\\Users\\\\ma007\\\\OneDrive\\\\Desktop\\\\archive (5)\\\\Housing.csv\")\n",
    "for col in df.select_dtypes(include='object').columns:\n",
    "    le = LabelEncoder()\n",
    "    df[col] = le.fit_transform(df[col])\n",
    "\n",
    "X = df.drop(columns=['price'])\n",
    "y = df['price']\n",
    "\n",
    "# Train-test split\n",
    "X_train, X_test, y_train, y_test = train_test_split(\n",
    "    X, y, test_size=0.2, random_state=42\n",
    ")\n",
    "\n",
    "# Model training\n",
    "best_model = RandomForestRegressor(random_state=42)\n",
    "best_model.fit(X_train, y_train)\n",
    "\n",
    "# Predictions\n",
    "y_pred_baseline = best_model.predict(X_test)\n",
    "print(\"Model trained successfully!\")\n"
   ]
  },
  {
   "cell_type": "code",
   "execution_count": 13,
   "id": "ab562ce2",
   "metadata": {},
   "outputs": [
    {
     "name": "stdout",
     "output_type": "stream",
     "text": [
      "Baseline (Before Tuning):\n",
      "MAE: 1025289.68, RMSE: 1401263.08, R²: 0.61\n"
     ]
    }
   ],
   "source": [
    "from sklearn.metrics import mean_absolute_error, mean_squared_error, r2_score\n",
    "import numpy as np\n",
    "\n",
    "y_pred_baseline = best_model.predict(X_test)\n",
    "def evaluate(y_true, y_pred):\n",
    "    mae = mean_absolute_error(y_true, y_pred)\n",
    "    rmse = np.sqrt(mean_squared_error(y_true, y_pred))\n",
    "    r2 = r2_score(y_true, y_pred)\n",
    "    return mae, rmse, r2\n",
    "\n",
    "baseline_results = evaluate(y_test, y_pred_baseline)\n",
    "print(\"Baseline (Before Tuning):\")\n",
    "print(f\"MAE: {baseline_results[0]:.2f}, RMSE: {baseline_results[1]:.2f}, R²: {baseline_results[2]:.2f}\")\n"
   ]
  },
  {
   "cell_type": "markdown",
   "id": "cbe4bc7d",
   "metadata": {},
   "source": [
    "# Hyperparameter Tuning with GridSearchCV"
   ]
  },
  {
   "cell_type": "code",
   "execution_count": 14,
   "id": "187df3c2",
   "metadata": {},
   "outputs": [
    {
     "name": "stdout",
     "output_type": "stream",
     "text": [
      "Fitting 3 folds for each of 54 candidates, totalling 162 fits\n"
     ]
    },
    {
     "name": "stderr",
     "output_type": "stream",
     "text": [
      "C:\\Users\\ma007\\anaconda3\\Lib\\site-packages\\sklearn\\model_selection\\_validation.py:425: FitFailedWarning: \n",
      "81 fits failed out of a total of 162.\n",
      "The score on these train-test partitions for these parameters will be set to nan.\n",
      "If these failures are not expected, you can try to debug them by setting error_score='raise'.\n",
      "\n",
      "Below are more details about the failures:\n",
      "--------------------------------------------------------------------------------\n",
      "22 fits failed with the following error:\n",
      "Traceback (most recent call last):\n",
      "  File \"C:\\Users\\ma007\\anaconda3\\Lib\\site-packages\\sklearn\\model_selection\\_validation.py\", line 732, in _fit_and_score\n",
      "    estimator.fit(X_train, y_train, **fit_params)\n",
      "  File \"C:\\Users\\ma007\\anaconda3\\Lib\\site-packages\\sklearn\\base.py\", line 1144, in wrapper\n",
      "    estimator._validate_params()\n",
      "  File \"C:\\Users\\ma007\\anaconda3\\Lib\\site-packages\\sklearn\\base.py\", line 637, in _validate_params\n",
      "    validate_parameter_constraints(\n",
      "  File \"C:\\Users\\ma007\\anaconda3\\Lib\\site-packages\\sklearn\\utils\\_param_validation.py\", line 95, in validate_parameter_constraints\n",
      "    raise InvalidParameterError(\n",
      "sklearn.utils._param_validation.InvalidParameterError: The 'max_features' parameter of RandomForestRegressor must be an int in the range [1, inf), a float in the range (0.0, 1.0], a str among {'sqrt', 'log2'} or None. Got 'auto' instead.\n",
      "\n",
      "--------------------------------------------------------------------------------\n",
      "59 fits failed with the following error:\n",
      "Traceback (most recent call last):\n",
      "  File \"C:\\Users\\ma007\\anaconda3\\Lib\\site-packages\\sklearn\\model_selection\\_validation.py\", line 732, in _fit_and_score\n",
      "    estimator.fit(X_train, y_train, **fit_params)\n",
      "  File \"C:\\Users\\ma007\\anaconda3\\Lib\\site-packages\\sklearn\\base.py\", line 1144, in wrapper\n",
      "    estimator._validate_params()\n",
      "  File \"C:\\Users\\ma007\\anaconda3\\Lib\\site-packages\\sklearn\\base.py\", line 637, in _validate_params\n",
      "    validate_parameter_constraints(\n",
      "  File \"C:\\Users\\ma007\\anaconda3\\Lib\\site-packages\\sklearn\\utils\\_param_validation.py\", line 95, in validate_parameter_constraints\n",
      "    raise InvalidParameterError(\n",
      "sklearn.utils._param_validation.InvalidParameterError: The 'max_features' parameter of RandomForestRegressor must be an int in the range [1, inf), a float in the range (0.0, 1.0], a str among {'log2', 'sqrt'} or None. Got 'auto' instead.\n",
      "\n",
      "  warnings.warn(some_fits_failed_message, FitFailedWarning)\n",
      "C:\\Users\\ma007\\anaconda3\\Lib\\site-packages\\sklearn\\model_selection\\_search.py:976: UserWarning: One or more of the test scores are non-finite: [            nan             nan             nan             nan\n",
      "             nan             nan             nan             nan\n",
      "             nan -1.18727488e+12 -1.16979106e+12 -1.17083624e+12\n",
      " -1.15434133e+12 -1.14573738e+12 -1.14399566e+12 -1.19633877e+12\n",
      " -1.18767542e+12 -1.17964850e+12             nan             nan\n",
      "             nan             nan             nan             nan\n",
      "             nan             nan             nan -1.15334062e+12\n",
      " -1.11703704e+12 -1.12880985e+12 -1.14266650e+12 -1.14882710e+12\n",
      " -1.14796919e+12 -1.17671511e+12 -1.16998621e+12 -1.15964321e+12\n",
      "             nan             nan             nan             nan\n",
      "             nan             nan             nan             nan\n",
      "             nan -1.18701530e+12 -1.16961341e+12 -1.17070991e+12\n",
      " -1.15434133e+12 -1.14573738e+12 -1.14399566e+12 -1.19633877e+12\n",
      " -1.18767542e+12 -1.17964850e+12]\n",
      "  warnings.warn(\n"
     ]
    },
    {
     "name": "stdout",
     "output_type": "stream",
     "text": [
      "Best Parameters: {'max_depth': 10, 'max_features': 'sqrt', 'min_samples_split': 2, 'n_estimators': 200}\n"
     ]
    }
   ],
   "source": [
    "from sklearn.model_selection import GridSearchCV\n",
    "\n",
    "param_grid = {\n",
    "    'n_estimators': [100, 200, 300],\n",
    "    'max_depth': [None, 10, 20],\n",
    "    'max_features': ['auto', 'sqrt'],\n",
    "    'min_samples_split': [2, 5, 10]\n",
    "}\n",
    "\n",
    "grid_search = GridSearchCV(\n",
    "    estimator=RandomForestRegressor(random_state=42),\n",
    "    param_grid=param_grid,\n",
    "    cv=3,  # 3-fold cross validation\n",
    "    n_jobs=-1,\n",
    "    scoring='neg_mean_squared_error',\n",
    "    verbose=2\n",
    ")\n",
    "\n",
    "grid_search.fit(X_train, y_train)\n",
    "print(\"Best Parameters:\", grid_search.best_params_)\n"
   ]
  },
  {
   "cell_type": "code",
   "execution_count": 15,
   "id": "acd692d8",
   "metadata": {},
   "outputs": [
    {
     "name": "stdout",
     "output_type": "stream",
     "text": [
      "After Tuning:\n",
      "MAE: 1003659.01, RMSE: 1376605.74, R²: 0.63\n"
     ]
    }
   ],
   "source": [
    "# Best model after tuning\n",
    "best_rf = grid_search.best_estimator_\n",
    "\n",
    "y_pred_tuned = best_rf.predict(X_test)\n",
    "\n",
    "tuned_results = evaluate(y_test, y_pred_tuned)\n",
    "print(\"After Tuning:\")\n",
    "print(f\"MAE: {tuned_results[0]:.2f}, RMSE: {tuned_results[1]:.2f}, R²: {tuned_results[2]:.2f}\")\n"
   ]
  },
  {
   "cell_type": "markdown",
   "id": "2554e1b8",
   "metadata": {},
   "source": [
    "# Visualization"
   ]
  },
  {
   "cell_type": "code",
   "execution_count": 16,
   "id": "94a2afe6",
   "metadata": {},
   "outputs": [
    {
     "data": {
      "image/png": "[encoded data removed]",
      "text/plain": [
       "<Figure size 800x600 with 1 Axes>"
      ]
     },
     "metadata": {},
     "output_type": "display_data"
    }
   ],
   "source": [
    "import matplotlib.pyplot as plt\n",
    "metrics = ['MAE', 'RMSE', 'R²']\n",
    "baseline_vals = baseline_results\n",
    "tuned_vals = tuned_results\n",
    "\n",
    "x = np.arange(len(metrics))\n",
    "width = 0.35\n",
    "\n",
    "plt.figure(figsize=(8,6))\n",
    "plt.bar(x - width/2, baseline_vals, width, label=\"Before Tuning\")\n",
    "plt.bar(x + width/2, tuned_vals, width, label=\"After Tuning\")\n",
    "\n",
    "plt.xticks(x, metrics)\n",
    "plt.ylabel(\"Score\")\n",
    "plt.title(\"Random Forest Performance: Before vs After Tuning\")\n",
    "plt.legend()\n",
    "plt.show()\n"
   ]
  },
  {
   "cell_type": "markdown",
   "id": "31fd27fb",
   "metadata": {},
   "source": [
    "# Reflection"
   ]
  },
  {
   "cell_type": "code",
   "execution_count": 17,
   "id": "9f09e057",
   "metadata": {},
   "outputs": [
    {
     "data": {
      "text/plain": [
       "' Reflection on Hyperparameter Tuning\\n\\n- //Best Model Picked:** Random Forest Regressor was chosen because it performed better than Linear Regression and Decision Tree in terms of accuracy and robustness.  \\n\\n- //Hyperparameters that made the biggest difference:**  \\n  The number of trees (`n_estimators`) and tree depth (`max_depth`) had the most noticeable impact.  \\n  Increasing `n_estimators` improved stability, while limiting `max_depth` reduced overfitting.  \\n\\n- //Did tuning improve performance?**  \\n  Yes, tuning reduced MAE and RMSE, while slightly improving R². The model became more generalizable compared to the baseline.  \\n\\n- //Trade-offs:**  \\n  Accuracy improved, but training time increased (especially with more trees).  \\n  Random Forest is less interpretable compared to Decision Tree, but it gave significantly better predictions.  \\n'"
      ]
     },
     "execution_count": 17,
     "metadata": {},
     "output_type": "execute_result"
    }
   ],
   "source": [
    "''' Reflection on Hyperparameter Tuning\n",
    "\n",
    "- //Best Model Picked:** Random Forest Regressor was chosen because it performed better than Linear Regression and Decision Tree in terms of accuracy and robustness.  \n",
    "\n",
    "- //Hyperparameters that made the biggest difference:**  \n",
    "  The number of trees (`n_estimators`) and tree depth (`max_depth`) had the most noticeable impact.  \n",
    "  Increasing `n_estimators` improved stability, while limiting `max_depth` reduced overfitting.  \n",
    "\n",
    "- //Did tuning improve performance?**  \n",
    "  Yes, tuning reduced MAE and RMSE, while slightly improving R². The model became more generalizable compared to the baseline.  \n",
    "\n",
    "- //Trade-offs:**  \n",
    "  Accuracy improved, but training time increased (especially with more trees).  \n",
    "  Random Forest is less interpretable compared to Decision Tree, but it gave significantly better predictions.  \n",
    "'''"
   ]
  },
  {
   "cell_type": "code",
   "execution_count": null,
   "id": "5d7cf42b",
   "metadata": {},
   "outputs": [],
   "source": []
  }
 ],
 "metadata": {
  "kernelspec": {
   "display_name": "Python 3 (ipykernel)",
   "language": "python",
   "name": "python3"
  },
  "language_info": {
   "codemirror_mode": {
    "name": "ipython",
    "version": 3
   },
   "file_extension": ".py",
   "mimetype": "text/x-python",
   "name": "python",
   "nbconvert_exporter": "python",
   "pygments_lexer": "ipython3",
   "version": "3.11.4"
  }
 },
 "nbformat": 4,
 "nbformat_minor": 5
}
