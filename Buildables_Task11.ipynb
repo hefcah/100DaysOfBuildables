{
 "cells": [
  {
   "cell_type": "code",
   "execution_count": 1,
   "id": "1de9f8da",
   "metadata": {},
   "outputs": [
    {
     "name": "stdout",
     "output_type": "stream",
     "text": [
      "\n",
      "Model Comparison Table:\n",
      "                            Model  Accuracy       MAE\n",
      "0  Logistic Regression (Baseline)  0.973684  0.026316\n",
      "1                             KNN  0.947368  0.052632\n",
      "2                   Decision Tree  0.947368  0.052632\n"
     ]
    }
   ],
   "source": [
    "import pandas as pd\n",
    "from sklearn.model_selection import train_test_split\n",
    "from sklearn.preprocessing import StandardScaler\n",
    "from sklearn.linear_model import LogisticRegression\n",
    "from sklearn.neighbors import KNeighborsClassifier\n",
    "from sklearn.tree import DecisionTreeClassifier\n",
    "from sklearn.metrics import accuracy_score, mean_absolute_error\n",
    "\n",
    "file_path = r\"C:\\Users\\ma007\\Downloads\\archive (6)\\data.csv\"\n",
    "df = pd.read_csv(file_path)\n",
    "\n",
    "drop_cols = [col for col in ['id', 'Unnamed: 32'] if col in df.columns]\n",
    "df = df.drop(columns=drop_cols)\n",
    "\n",
    "# Features and Target\n",
    "X = df.drop(columns=['diagnosis'])\n",
    "y = df['diagnosis'].map({'M': 1, 'B': 0})\n",
    "\n",
    "X_train, X_test, y_train, y_test = train_test_split(\n",
    "    X, y, test_size=0.2, random_state=42\n",
    ")\n",
    "\n",
    "# Scale features (for LR & KNN)\n",
    "scaler = StandardScaler()\n",
    "X_train_scaled = scaler.fit_transform(X_train)\n",
    "X_test_scaled = scaler.transform(X_test)\n",
    "\n",
    "# --- Baseline: Logistic Regression ---\n",
    "log_model = LogisticRegression(max_iter=5000)\n",
    "log_model.fit(X_train_scaled, y_train)\n",
    "y_pred_log = log_model.predict(X_test_scaled)\n",
    "\n",
    "baseline_acc = accuracy_score(y_test, y_pred_log)\n",
    "baseline_mae = mean_absolute_error(y_test, y_pred_log)\n",
    "\n",
    "# --- Alternative Model 1: KNN ---\n",
    "knn_model = KNeighborsClassifier(n_neighbors=5)\n",
    "knn_model.fit(X_train_scaled, y_train)\n",
    "y_pred_knn = knn_model.predict(X_test_scaled)\n",
    "\n",
    "knn_acc = accuracy_score(y_test, y_pred_knn)\n",
    "knn_mae = mean_absolute_error(y_test, y_pred_knn)\n",
    "\n",
    "# --- Alternative Model 2: Decision Tree ---\n",
    "dt_model = DecisionTreeClassifier(random_state=42)\n",
    "dt_model.fit(X_train, y_train)  # no scaling needed for tree\n",
    "y_pred_dt = dt_model.predict(X_test)\n",
    "\n",
    "dt_acc = accuracy_score(y_test, y_pred_dt)\n",
    "dt_mae = mean_absolute_error(y_test, y_pred_dt)\n",
    "\n",
    "# --- Model Comparison Table ---\n",
    "comparison_df = pd.DataFrame({\n",
    "    \"Model\": [\"Logistic Regression (Baseline)\", \"KNN\", \"Decision Tree\"],\n",
    "    \"Accuracy\": [baseline_acc, knn_acc, dt_acc],\n",
    "    \"MAE\": [baseline_mae, knn_mae, dt_mae]\n",
    "})\n",
    "\n",
    "print(\"\\nModel Comparison Table:\")\n",
    "print(comparison_df)\n"
   ]
  },
  {
   "cell_type": "code",
   "execution_count": null,
   "id": "a8144089",
   "metadata": {},
   "outputs": [],
   "source": []
  }
 ],
 "metadata": {
  "kernelspec": {
   "display_name": "Python 3 (ipykernel)",
   "language": "python",
   "name": "python3"
  },
  "language_info": {
   "codemirror_mode": {
    "name": "ipython",
    "version": 3
   },
   "file_extension": ".py",
   "mimetype": "text/x-python",
   "name": "python",
   "nbconvert_exporter": "python",
   "pygments_lexer": "ipython3",
   "version": "3.11.4"
  }
 },
 "nbformat": 4,
 "nbformat_minor": 5
}
