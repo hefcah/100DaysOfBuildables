{
 "cells": [
  {
   "cell_type": "code",
   "execution_count": 1,
   "id": "96293db1",
   "metadata": {},
   "outputs": [
    {
     "name": "stdout",
     "output_type": "stream",
     "text": [
      "Data: [2, 4, 4, 4, 5, 5, 7, 9]\n",
      "Mean: 5.0\n",
      "Median: 4.5\n",
      "Mode: 4\n",
      "Variance: 4.0\n",
      "Standard Deviation: 2.0\n",
      "Euclidean Distance (numbers): 6\n",
      "Euclidean Distance (lists): 5.196152422706632\n",
      "Sigmoid(0): 0.5\n",
      "Sigmoid(2): 0.8807970779778823\n"
     ]
    }
   ],
   "source": [
    "import math\n",
    "\n",
    "# 1. Mean\n",
    "def mean(vals):\n",
    "    return sum(vals) / len(vals)\n",
    "\n",
    "# 2. Median\n",
    "def median(vals):\n",
    "    sorted_list = sorted(vals)\n",
    "    n = len(sorted_list)\n",
    "    mid = n // 2\n",
    "    if n % 2 == 0:\n",
    "        return (sorted_list[mid-1] + sorted_list[mid]) / 2\n",
    "    else:\n",
    "        return sorted_list[mid]\n",
    "\n",
    "# 3. Mode \n",
    "def mode(vals):\n",
    "    freq_dict = {}\n",
    "    for v in vals:\n",
    "        if v in freq_dict:\n",
    "            freq_dict[v] += 1\n",
    "        else:\n",
    "            freq_dict[v] = 1\n",
    "\n",
    "    max_freq = max(freq_dict.values())\n",
    "    result = [k for k, v in freq_dict.items() if v == max_freq]\n",
    "\n",
    "    if len(result) == len(freq_dict):  # same frequency of all values\n",
    "        return None\n",
    "    return result if len(result) > 1 else result[0]\n",
    "\n",
    "# 4. Variance\n",
    "def variance(vals):\n",
    "    m = mean(vals)\n",
    "    return sum((x - m) ** 2 for x in vals) / len(vals)\n",
    "\n",
    "# 5. Standard Deviation\n",
    "def std_dev(vals):\n",
    "    return math.sqrt(variance(vals))\n",
    "\n",
    "# 6. Euclidean Distance\n",
    "def euclidean_distance(a, b):\n",
    "    if isinstance(a, (int, float)) and isinstance(b, (int, float)):\n",
    "        return abs(a - b)\n",
    "    return math.sqrt(sum((i - j) ** 2 for i, j in zip(a, b)))\n",
    "\n",
    "# 7. Sigmoid\n",
    "def sigmoid(val):\n",
    "    return 1 / (1 + math.exp(-val))\n",
    "\n",
    "# Testing the functions\n",
    "data = [2, 4, 4, 4, 5, 5, 7, 9]\n",
    "\n",
    "print(\"Data:\", data)\n",
    "print(\"Mean:\", mean(data))\n",
    "print(\"Median:\", median(data))\n",
    "print(\"Mode:\", mode(data))\n",
    "print(\"Variance:\", variance(data))\n",
    "print(\"Standard Deviation:\", std_dev(data))\n",
    "print(\"Euclidean Distance (numbers):\", euclidean_distance(3, 9))\n",
    "print(\"Euclidean Distance (lists):\", euclidean_distance([1,2,3], [4,5,6]))\n",
    "print(\"Sigmoid(0):\", sigmoid(0))\n",
    "print(\"Sigmoid(2):\", sigmoid(2))\n"
   ]
  },
  {
   "cell_type": "markdown",
   "id": "8fcf5b05",
   "metadata": {},
   "source": [
    "# Learning Outcome"
   ]
  },
  {
   "cell_type": "code",
   "execution_count": 3,
   "id": "c81f83fa",
   "metadata": {},
   "outputs": [
    {
     "data": {
      "text/plain": [
       "'Mean → Gives the \"center\" of the data but is sensitive to outliers.\\n\\nMedian → Splits data into two halves; more robust than mean when outliers exist.\\n\\nMode → Shows the most frequent value(s); useful for categorical/discrete data.\\n\\nVariance → Measures spread of data around the mean (average of squared differences).\\n\\nStandard Deviation → Square root of variance; brings spread back to original unit of data (more interpretable).\\n\\nEuclidean Distance → Measures \"straight-line\" distance between two points in space (foundation of clustering, kNN, etc.).\\n\\nSigmoid → Smooth squashing function that maps any real number into range (0,1); core for probabilities and neural networks.'"
      ]
     },
     "execution_count": 3,
     "metadata": {},
     "output_type": "execute_result"
    }
   ],
   "source": [
    "'''Mean → Gives the \"center\" of the data but is sensitive to outliers.\n",
    "\n",
    "Median → Splits data into two halves; more robust than mean when outliers exist.\n",
    "\n",
    "Mode → Shows the most frequent value(s); useful for categorical/discrete data.\n",
    "\n",
    "Variance → Measures spread of data around the mean (average of squared differences).\n",
    "\n",
    "Standard Deviation → Square root of variance; brings spread back to original unit of data (more interpretable).\n",
    "\n",
    "Euclidean Distance → Measures \"straight-line\" distance between two points in space (foundation of clustering, kNN, etc.).\n",
    "\n",
    "Sigmoid → Smooth squashing function that maps any real number into range (0,1); core for probabilities and neural networks.'''"
   ]
  },
  {
   "cell_type": "code",
   "execution_count": null,
   "id": "bc6e45a5",
   "metadata": {},
   "outputs": [],
   "source": []
  }
 ],
 "metadata": {
  "kernelspec": {
   "display_name": "Python 3 (ipykernel)",
   "language": "python",
   "name": "python3"
  },
  "language_info": {
   "codemirror_mode": {
    "name": "ipython",
    "version": 3
   },
   "file_extension": ".py",
   "mimetype": "text/x-python",
   "name": "python",
   "nbconvert_exporter": "python",
   "pygments_lexer": "ipython3",
   "version": "3.11.4"
  }
 },
 "nbformat": 4,
 "nbformat_minor": 5
}
