{
 "cells": [
  {
   "cell_type": "markdown",
   "id": "70559b7a",
   "metadata": {},
   "source": [
    "# Task 01 (Variables and DataTypes)"
   ]
  },
  {
   "cell_type": "markdown",
   "id": "432e9902",
   "metadata": {},
   "source": [
    "# Int"
   ]
  },
  {
   "cell_type": "code",
   "execution_count": 2,
   "id": "8c8ca0cb",
   "metadata": {},
   "outputs": [
    {
     "name": "stdout",
     "output_type": "stream",
     "text": [
      "<class 'int'>\n"
     ]
    }
   ],
   "source": [
    "num = 5\n",
    "print(num)\n",
    "print(type(num))"
   ]
  },
  {
   "cell_type": "markdown",
   "id": "0397aa51",
   "metadata": {},
   "source": [
    "# Float"
   ]
  },
  {
   "cell_type": "code",
   "execution_count": 3,
   "id": "68bf98d3",
   "metadata": {},
   "outputs": [
    {
     "name": "stdout",
     "output_type": "stream",
     "text": [
      "9.5\n",
      "<class 'float'>\n"
     ]
    }
   ],
   "source": [
    "num = 9.5\n",
    "print(num)\n",
    "print(type(num))"
   ]
  },
  {
   "cell_type": "markdown",
   "id": "0e259e66",
   "metadata": {},
   "source": [
    "# String"
   ]
  },
  {
   "cell_type": "code",
   "execution_count": 4,
   "id": "63c1363e",
   "metadata": {},
   "outputs": [
    {
     "name": "stdout",
     "output_type": "stream",
     "text": [
      "Hafsa\n",
      "<class 'str'>\n"
     ]
    }
   ],
   "source": [
    "name = \"Hafsa\"\n",
    "print(name)\n",
    "print(type(name))"
   ]
  },
  {
   "cell_type": "code",
   "execution_count": 5,
   "id": "d2dad3fc",
   "metadata": {},
   "outputs": [
    {
     "name": "stdout",
     "output_type": "stream",
     "text": [
      "['Ali', 'Sara', 'Kaf']\n",
      "<class 'list'>\n"
     ]
    }
   ],
   "source": [
    "names = [\"Ali\" , \"Sara\" , \"Kaf\"]\n",
    "print(names)\n",
    "print(type(names))"
   ]
  },
  {
   "cell_type": "markdown",
   "id": "a56b96eb",
   "metadata": {},
   "source": [
    "# Task 02 (Conditionals)"
   ]
  },
  {
   "cell_type": "code",
   "execution_count": 13,
   "id": "6893a6a6",
   "metadata": {},
   "outputs": [
    {
     "name": "stdout",
     "output_type": "stream",
     "text": [
      "Enter a number -5\n",
      "Entered number is Negative\n"
     ]
    }
   ],
   "source": [
    "num = int(input(\"Enter a number \"))\n",
    "if (num==0):\n",
    "    print(\"Zero\")\n",
    "elif (num>0):\n",
    "    print(\"Entered number is Positive\")\n",
    "elif (num<0):\n",
    "    print(\"Entered number is Negative\")"
   ]
  },
  {
   "cell_type": "markdown",
   "id": "e882795f",
   "metadata": {},
   "source": [
    "# Task 03 (Loops)"
   ]
  },
  {
   "cell_type": "markdown",
   "id": "0c1ad101",
   "metadata": {},
   "source": [
    "# Printing first 10 Natural Numbers"
   ]
  },
  {
   "cell_type": "code",
   "execution_count": 30,
   "id": "7bd67ac0",
   "metadata": {},
   "outputs": [
    {
     "name": "stdout",
     "output_type": "stream",
     "text": [
      "1\n",
      "2\n",
      "3\n",
      "4\n",
      "5\n",
      "6\n",
      "7\n",
      "8\n",
      "9\n",
      "10\n"
     ]
    }
   ],
   "source": [
    "for i in range(1, 11):\n",
    "    print(i)"
   ]
  },
  {
   "cell_type": "markdown",
   "id": "b40dd179",
   "metadata": {},
   "source": [
    "# Factorial"
   ]
  },
  {
   "cell_type": "code",
   "execution_count": 31,
   "id": "54a81838",
   "metadata": {},
   "outputs": [
    {
     "name": "stdout",
     "output_type": "stream",
     "text": [
      "Enter a number: 5\n",
      "Factorial of 5 is 120\n"
     ]
    }
   ],
   "source": [
    "num = int(input(\"Enter a number: \"))\n",
    "factorial = 1\n",
    "for i in range(1, num + 1):\n",
    "    factorial *= i  \n",
    "\n",
    "print(\"Factorial of\", num, \"is\", factorial)\n"
   ]
  },
  {
   "cell_type": "markdown",
   "id": "c6b39aac",
   "metadata": {},
   "source": [
    "# Task 04 (Functions)"
   ]
  },
  {
   "cell_type": "code",
   "execution_count": 29,
   "id": "edf72b64",
   "metadata": {},
   "outputs": [
    {
     "name": "stdout",
     "output_type": "stream",
     "text": [
      "Hello, Hafsa!\n",
      "True\n",
      "False\n"
     ]
    }
   ],
   "source": [
    "def greet(name):\n",
    "    print(\"Hello,\", name + \"!\")\n",
    "\n",
    "def is_even(num):\n",
    "    return num % 2 == 0   \n",
    "\n",
    "greet(\"Hafsa\")\n",
    "print(is_even(50))   \n",
    "print(is_even(2965))   \n"
   ]
  },
  {
   "cell_type": "markdown",
   "id": "b3703268",
   "metadata": {},
   "source": [
    "# Task 05 (List Operations)"
   ]
  },
  {
   "cell_type": "code",
   "execution_count": 17,
   "id": "29d3e4be",
   "metadata": {},
   "outputs": [
    {
     "name": "stdout",
     "output_type": "stream",
     "text": [
      "[5, 8, 10, 89, 100]\n"
     ]
    }
   ],
   "source": [
    "numbers = [5 , 8 , 10 , 89 , 100]\n",
    "print(numbers)"
   ]
  },
  {
   "cell_type": "code",
   "execution_count": 18,
   "id": "fa95adc8",
   "metadata": {},
   "outputs": [
    {
     "name": "stdout",
     "output_type": "stream",
     "text": [
      "5\n"
     ]
    }
   ],
   "source": [
    "print(min(numbers))"
   ]
  },
  {
   "cell_type": "code",
   "execution_count": 19,
   "id": "2d7226c2",
   "metadata": {},
   "outputs": [
    {
     "name": "stdout",
     "output_type": "stream",
     "text": [
      "100\n"
     ]
    }
   ],
   "source": [
    "print(max(numbers))"
   ]
  },
  {
   "cell_type": "code",
   "execution_count": 25,
   "id": "a31128d1",
   "metadata": {},
   "outputs": [
    {
     "name": "stdout",
     "output_type": "stream",
     "text": [
      "212\n"
     ]
    }
   ],
   "source": [
    "a = print(sum(numbers))"
   ]
  },
  {
   "cell_type": "code",
   "execution_count": 24,
   "id": "97a37051",
   "metadata": {},
   "outputs": [
    {
     "name": "stdout",
     "output_type": "stream",
     "text": [
      "5\n"
     ]
    }
   ],
   "source": [
    "b = print(len(numbers))"
   ]
  },
  {
   "cell_type": "code",
   "execution_count": 28,
   "id": "651dea82",
   "metadata": {},
   "outputs": [
    {
     "name": "stdout",
     "output_type": "stream",
     "text": [
      "42.4\n"
     ]
    }
   ],
   "source": [
    "a = 212\n",
    "b = 5\n",
    "average = a/b\n",
    "print(average)"
   ]
  },
  {
   "cell_type": "markdown",
   "id": "8edf34b3",
   "metadata": {},
   "source": [
    "# Task 06 (Input/Output)"
   ]
  },
  {
   "cell_type": "code",
   "execution_count": 16,
   "id": "b70c9fb3",
   "metadata": {},
   "outputs": [
    {
     "name": "stdout",
     "output_type": "stream",
     "text": [
      "Enter your nameHafsa\n",
      "Enter your age50\n",
      "Hello Hafsa You are 50 years old\n"
     ]
    }
   ],
   "source": [
    "user_name = input(\"Enter your name\")\n",
    "user_age = (input(\"Enter your age\"))\n",
    "print(\"Hello \" + user_name + \" You are \" + user_age + \" years old\")"
   ]
  },
  {
   "cell_type": "code",
   "execution_count": null,
   "id": "8231cc6b",
   "metadata": {},
   "outputs": [],
   "source": []
  }
 ],
 "metadata": {
  "kernelspec": {
   "display_name": "Python 3 (ipykernel)",
   "language": "python",
   "name": "python3"
  },
  "language_info": {
   "codemirror_mode": {
    "name": "ipython",
    "version": 3
   },
   "file_extension": ".py",
   "mimetype": "text/x-python",
   "name": "python",
   "nbconvert_exporter": "python",
   "pygments_lexer": "ipython3",
   "version": "3.11.4"
  }
 },
 "nbformat": 4,
 "nbformat_minor": 5
}
